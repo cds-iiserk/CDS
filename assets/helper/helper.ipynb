{
 "cells": [
  {
   "cell_type": "markdown",
   "metadata": {},
   "source": [
    "# IMPORTING"
   ]
  },
  {
   "cell_type": "code",
   "execution_count": 2,
   "metadata": {},
   "outputs": [],
   "source": [
    "import os, json "
   ]
  },
  {
   "cell_type": "markdown",
   "metadata": {},
   "source": [
    "# FUNTIONS FOR MAKING/UPDATING [publications.json](./publications.json)"
   ]
  },
  {
   "cell_type": "code",
   "execution_count": 3,
   "metadata": {},
   "outputs": [],
   "source": [
    "pub = \"./pub.txt\" # PUBLICATION DATA\n",
    "pub_data = \"\"\n",
    "with open(pub, \"r\") as pub_f:\n",
    "    pub_data = pub_f.readlines()"
   ]
  },
  {
   "cell_type": "code",
   "execution_count": null,
   "metadata": {},
   "outputs": [],
   "source": [
    "new_pub = 0\n",
    "year = 0\n",
    "master_data = {}\n",
    "inner = {}\n",
    "for line in pub_data:\n",
    "    # print(line)\n",
    "    # print(line.replace(\"\\n\", \"\").strip())\n",
    "    # input()\n",
    "    line = line.replace(\"\\n\", \"\")\n",
    "    _line = line.strip().split()\n",
    "    print(_line)\n",
    "    if not len(_line):\n",
    "        continue\n",
    "\n",
    "    if len(_line) == 1 :\n",
    "        print(line)\n",
    "        if year:\n",
    "            master_data[year] = inner\n",
    "            inner = {}\n",
    "        year = int(line.replace(\"\\n\", \"\").strip())\n",
    "        new_grp = 1\n",
    "        master_data[year] = {}\n",
    "        continue\n",
    "\n",
    "    if \"author\" in _line[0].lower():\n",
    "        inner[pub_name][\"author\"] += [i.strip() for i in line.split(\",\")]\n",
    "        inner[pub_name][\"author\"] = list(set(inner[pub_name][\"author\"]))\n",
    "    elif \"link\" in _line[0].lower():\n",
    "        _link = line.split()[-1]\n",
    "        inner[pub_name][\"link\"].append(_link)\n",
    "        inner[pub_name][\"link\"] = list(set(inner[pub_name][\"link\"]))\n",
    "    else:\n",
    "        pub_name = line.strip()\n",
    "        if pub_name not in inner:\n",
    "            inner[pub_name] = {\"author\" : [], \"link\" : []}\n",
    "\n",
    "master_data[year] = inner"
   ]
  },
  {
   "cell_type": "code",
   "execution_count": 11,
   "metadata": {},
   "outputs": [],
   "source": [
    "# MAKING/UPDATING THE publication.json FILE\n",
    "with open(\"publications.json\", \"w\") as json_f:\n",
    "    json.dump(master_data, json_f, indent=4)"
   ]
  },
  {
   "cell_type": "code",
   "execution_count": null,
   "metadata": {},
   "outputs": [],
   "source": []
  }
 ],
 "metadata": {
  "kernelspec": {
   "display_name": "globalenv",
   "language": "python",
   "name": "python3"
  },
  "language_info": {
   "codemirror_mode": {
    "name": "ipython",
    "version": 3
   },
   "file_extension": ".py",
   "mimetype": "text/x-python",
   "name": "python",
   "nbconvert_exporter": "python",
   "pygments_lexer": "ipython3",
   "version": "3.12.0"
  }
 },
 "nbformat": 4,
 "nbformat_minor": 2
}
